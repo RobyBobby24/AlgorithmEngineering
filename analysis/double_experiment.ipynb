{
 "cells": [
  {
   "cell_type": "code",
   "execution_count": 54,
   "id": "initial_id",
   "metadata": {
    "collapsed": true,
    "ExecuteTime": {
     "end_time": "2024-04-15T18:08:31.747879Z",
     "start_time": "2024-04-15T18:08:31.743317Z"
    }
   },
   "outputs": [],
   "source": [
    "import networkit as nk\n",
    "import numpy as np\n",
    "import pandas as pd"
   ]
  },
  {
   "cell_type": "code",
   "outputs": [
    {
     "data": {
      "text/plain": "                              Graph  Community computation  Nodes computation  \\\n0      DoubleExperiment(n=10).graph               0.001963           0.002279   \n1      DoubleExperiment(n=10).graph               0.000300           0.000449   \n2      DoubleExperiment(n=10).graph               0.000347           0.000474   \n3      DoubleExperiment(n=10).graph               0.000331           0.000397   \n4      DoubleExperiment(n=10).graph               0.000245           0.000367   \n5   DoubleExperiment(n=10240).graph               0.057027           0.970550   \n6   DoubleExperiment(n=10240).graph               0.062452           0.913750   \n7   DoubleExperiment(n=10240).graph               0.058453           0.683484   \n8   DoubleExperiment(n=10240).graph               0.061110           0.724083   \n9   DoubleExperiment(n=10240).graph               0.059155           0.715544   \n10   DoubleExperiment(n=1280).graph               0.007645           0.017536   \n11   DoubleExperiment(n=1280).graph               0.006836           0.017615   \n12   DoubleExperiment(n=1280).graph               0.007371           0.018447   \n13   DoubleExperiment(n=1280).graph               0.007532           0.017041   \n14   DoubleExperiment(n=1280).graph               0.007324           0.017331   \n15    DoubleExperiment(n=160).graph               0.001281           0.001976   \n16    DoubleExperiment(n=160).graph               0.000803           0.001507   \n17    DoubleExperiment(n=160).graph               0.000819           0.001466   \n18    DoubleExperiment(n=160).graph               0.000793           0.001403   \n19    DoubleExperiment(n=160).graph               0.000949           0.001643   \n20     DoubleExperiment(n=20).graph               0.000201           0.000338   \n21     DoubleExperiment(n=20).graph               0.000331           0.000439   \n22     DoubleExperiment(n=20).graph               0.000312           0.000408   \n23     DoubleExperiment(n=20).graph               0.000202           0.000307   \n24     DoubleExperiment(n=20).graph               0.000312           0.000430   \n25  DoubleExperiment(n=20480).graph               0.097486           6.744038   \n26   DoubleExperiment(n=2560).graph               0.014398           0.084368   \n27   DoubleExperiment(n=2560).graph               0.011090           0.074085   \n28   DoubleExperiment(n=2560).graph               0.010721           0.084967   \n29   DoubleExperiment(n=2560).graph               0.011343           0.079793   \n30   DoubleExperiment(n=2560).graph               0.009949           0.075232   \n31    DoubleExperiment(n=320).graph               0.001403           0.002804   \n32    DoubleExperiment(n=320).graph               0.001399           0.002877   \n33    DoubleExperiment(n=320).graph               0.001224           0.002536   \n34    DoubleExperiment(n=320).graph               0.001905           0.003230   \n35    DoubleExperiment(n=320).graph               0.001530           0.002884   \n36     DoubleExperiment(n=40).graph               0.000472           0.000720   \n37     DoubleExperiment(n=40).graph               0.000417           0.000622   \n38     DoubleExperiment(n=40).graph               0.000415           0.000678   \n39     DoubleExperiment(n=40).graph               0.000497           0.000751   \n40     DoubleExperiment(n=40).graph               0.000400           0.000616   \n41   DoubleExperiment(n=5120).graph               0.024303           0.151524   \n42   DoubleExperiment(n=5120).graph               0.022476           0.145550   \n43   DoubleExperiment(n=5120).graph               0.025717           0.123427   \n44   DoubleExperiment(n=5120).graph               0.024271           0.145488   \n45   DoubleExperiment(n=5120).graph               0.022631           0.141753   \n46    DoubleExperiment(n=640).graph               0.003328           0.009312   \n47    DoubleExperiment(n=640).graph               0.003526           0.008759   \n48    DoubleExperiment(n=640).graph               0.003235           0.007911   \n49    DoubleExperiment(n=640).graph               0.003746           0.009070   \n50    DoubleExperiment(n=640).graph               0.003630           0.008525   \n51     DoubleExperiment(n=80).graph               0.000963           0.001400   \n52     DoubleExperiment(n=80).graph               0.000747           0.001112   \n53     DoubleExperiment(n=80).graph               0.000735           0.001155   \n54     DoubleExperiment(n=80).graph               0.000677           0.001056   \n55     DoubleExperiment(n=80).graph               0.000624           0.001063   \n\n    GLR computation       Total  \n0          0.002571    0.002586  \n1          0.000647    0.000657  \n2          0.000670    0.000679  \n3          0.000535    0.000541  \n4          0.000551    0.000559  \n5         62.593090   62.595007  \n6         59.567496   59.569750  \n7         58.517543   58.520577  \n8         73.953123   73.957938  \n9         83.525481   83.528159  \n10         0.861311    0.862139  \n11         0.843730    0.844115  \n12         0.911361    0.912082  \n13         0.930565    0.931144  \n14         0.886344    0.886879  \n15         0.023555    0.023722  \n16         0.023217    0.023296  \n17         0.019710    0.019762  \n18         0.021020    0.021083  \n19         0.023517    0.023580  \n20         0.000905    0.000927  \n21         0.000840    0.000850  \n22         0.000805    0.000814  \n23         0.000711    0.000720  \n24         0.000966    0.000978  \n25       411.466876  411.471703  \n26         4.112397    4.114277  \n27         4.107060    4.107720  \n28         4.023000    4.023605  \n29         4.048946    4.049678  \n30         4.028331    4.028997  \n31         0.071666    0.071899  \n32         0.078171    0.078298  \n33         0.072133    0.072268  \n34         0.082875    0.082993  \n35         0.071329    0.071435  \n36         0.002878    0.002927  \n37         0.002479    0.002493  \n38         0.003248    0.003266  \n39         0.003085    0.003103  \n40         0.003069    0.003088  \n41        10.938456   10.939634  \n42        10.922810   10.924243  \n43        10.842714   10.844353  \n44        10.745840   10.747197  \n45        10.940596   10.942144  \n46         0.323075    0.323527  \n47         0.318021    0.318253  \n48         0.326096    0.326334  \n49         0.328130    0.328319  \n50         0.342494    0.342685  \n51         0.008677    0.008754  \n52         0.007940    0.007970  \n53         0.008978    0.009010  \n54         0.008868    0.008903  \n55         0.008851    0.008885  ",
      "text/html": "<div>\n<style scoped>\n    .dataframe tbody tr th:only-of-type {\n        vertical-align: middle;\n    }\n\n    .dataframe tbody tr th {\n        vertical-align: top;\n    }\n\n    .dataframe thead th {\n        text-align: right;\n    }\n</style>\n<table border=\"1\" class=\"dataframe\">\n  <thead>\n    <tr style=\"text-align: right;\">\n      <th></th>\n      <th>Graph</th>\n      <th>Community computation</th>\n      <th>Nodes computation</th>\n      <th>GLR computation</th>\n      <th>Total</th>\n    </tr>\n  </thead>\n  <tbody>\n    <tr>\n      <th>0</th>\n      <td>DoubleExperiment(n=10).graph</td>\n      <td>0.001963</td>\n      <td>0.002279</td>\n      <td>0.002571</td>\n      <td>0.002586</td>\n    </tr>\n    <tr>\n      <th>1</th>\n      <td>DoubleExperiment(n=10).graph</td>\n      <td>0.000300</td>\n      <td>0.000449</td>\n      <td>0.000647</td>\n      <td>0.000657</td>\n    </tr>\n    <tr>\n      <th>2</th>\n      <td>DoubleExperiment(n=10).graph</td>\n      <td>0.000347</td>\n      <td>0.000474</td>\n      <td>0.000670</td>\n      <td>0.000679</td>\n    </tr>\n    <tr>\n      <th>3</th>\n      <td>DoubleExperiment(n=10).graph</td>\n      <td>0.000331</td>\n      <td>0.000397</td>\n      <td>0.000535</td>\n      <td>0.000541</td>\n    </tr>\n    <tr>\n      <th>4</th>\n      <td>DoubleExperiment(n=10).graph</td>\n      <td>0.000245</td>\n      <td>0.000367</td>\n      <td>0.000551</td>\n      <td>0.000559</td>\n    </tr>\n    <tr>\n      <th>5</th>\n      <td>DoubleExperiment(n=10240).graph</td>\n      <td>0.057027</td>\n      <td>0.970550</td>\n      <td>62.593090</td>\n      <td>62.595007</td>\n    </tr>\n    <tr>\n      <th>6</th>\n      <td>DoubleExperiment(n=10240).graph</td>\n      <td>0.062452</td>\n      <td>0.913750</td>\n      <td>59.567496</td>\n      <td>59.569750</td>\n    </tr>\n    <tr>\n      <th>7</th>\n      <td>DoubleExperiment(n=10240).graph</td>\n      <td>0.058453</td>\n      <td>0.683484</td>\n      <td>58.517543</td>\n      <td>58.520577</td>\n    </tr>\n    <tr>\n      <th>8</th>\n      <td>DoubleExperiment(n=10240).graph</td>\n      <td>0.061110</td>\n      <td>0.724083</td>\n      <td>73.953123</td>\n      <td>73.957938</td>\n    </tr>\n    <tr>\n      <th>9</th>\n      <td>DoubleExperiment(n=10240).graph</td>\n      <td>0.059155</td>\n      <td>0.715544</td>\n      <td>83.525481</td>\n      <td>83.528159</td>\n    </tr>\n    <tr>\n      <th>10</th>\n      <td>DoubleExperiment(n=1280).graph</td>\n      <td>0.007645</td>\n      <td>0.017536</td>\n      <td>0.861311</td>\n      <td>0.862139</td>\n    </tr>\n    <tr>\n      <th>11</th>\n      <td>DoubleExperiment(n=1280).graph</td>\n      <td>0.006836</td>\n      <td>0.017615</td>\n      <td>0.843730</td>\n      <td>0.844115</td>\n    </tr>\n    <tr>\n      <th>12</th>\n      <td>DoubleExperiment(n=1280).graph</td>\n      <td>0.007371</td>\n      <td>0.018447</td>\n      <td>0.911361</td>\n      <td>0.912082</td>\n    </tr>\n    <tr>\n      <th>13</th>\n      <td>DoubleExperiment(n=1280).graph</td>\n      <td>0.007532</td>\n      <td>0.017041</td>\n      <td>0.930565</td>\n      <td>0.931144</td>\n    </tr>\n    <tr>\n      <th>14</th>\n      <td>DoubleExperiment(n=1280).graph</td>\n      <td>0.007324</td>\n      <td>0.017331</td>\n      <td>0.886344</td>\n      <td>0.886879</td>\n    </tr>\n    <tr>\n      <th>15</th>\n      <td>DoubleExperiment(n=160).graph</td>\n      <td>0.001281</td>\n      <td>0.001976</td>\n      <td>0.023555</td>\n      <td>0.023722</td>\n    </tr>\n    <tr>\n      <th>16</th>\n      <td>DoubleExperiment(n=160).graph</td>\n      <td>0.000803</td>\n      <td>0.001507</td>\n      <td>0.023217</td>\n      <td>0.023296</td>\n    </tr>\n    <tr>\n      <th>17</th>\n      <td>DoubleExperiment(n=160).graph</td>\n      <td>0.000819</td>\n      <td>0.001466</td>\n      <td>0.019710</td>\n      <td>0.019762</td>\n    </tr>\n    <tr>\n      <th>18</th>\n      <td>DoubleExperiment(n=160).graph</td>\n      <td>0.000793</td>\n      <td>0.001403</td>\n      <td>0.021020</td>\n      <td>0.021083</td>\n    </tr>\n    <tr>\n      <th>19</th>\n      <td>DoubleExperiment(n=160).graph</td>\n      <td>0.000949</td>\n      <td>0.001643</td>\n      <td>0.023517</td>\n      <td>0.023580</td>\n    </tr>\n    <tr>\n      <th>20</th>\n      <td>DoubleExperiment(n=20).graph</td>\n      <td>0.000201</td>\n      <td>0.000338</td>\n      <td>0.000905</td>\n      <td>0.000927</td>\n    </tr>\n    <tr>\n      <th>21</th>\n      <td>DoubleExperiment(n=20).graph</td>\n      <td>0.000331</td>\n      <td>0.000439</td>\n      <td>0.000840</td>\n      <td>0.000850</td>\n    </tr>\n    <tr>\n      <th>22</th>\n      <td>DoubleExperiment(n=20).graph</td>\n      <td>0.000312</td>\n      <td>0.000408</td>\n      <td>0.000805</td>\n      <td>0.000814</td>\n    </tr>\n    <tr>\n      <th>23</th>\n      <td>DoubleExperiment(n=20).graph</td>\n      <td>0.000202</td>\n      <td>0.000307</td>\n      <td>0.000711</td>\n      <td>0.000720</td>\n    </tr>\n    <tr>\n      <th>24</th>\n      <td>DoubleExperiment(n=20).graph</td>\n      <td>0.000312</td>\n      <td>0.000430</td>\n      <td>0.000966</td>\n      <td>0.000978</td>\n    </tr>\n    <tr>\n      <th>25</th>\n      <td>DoubleExperiment(n=20480).graph</td>\n      <td>0.097486</td>\n      <td>6.744038</td>\n      <td>411.466876</td>\n      <td>411.471703</td>\n    </tr>\n    <tr>\n      <th>26</th>\n      <td>DoubleExperiment(n=2560).graph</td>\n      <td>0.014398</td>\n      <td>0.084368</td>\n      <td>4.112397</td>\n      <td>4.114277</td>\n    </tr>\n    <tr>\n      <th>27</th>\n      <td>DoubleExperiment(n=2560).graph</td>\n      <td>0.011090</td>\n      <td>0.074085</td>\n      <td>4.107060</td>\n      <td>4.107720</td>\n    </tr>\n    <tr>\n      <th>28</th>\n      <td>DoubleExperiment(n=2560).graph</td>\n      <td>0.010721</td>\n      <td>0.084967</td>\n      <td>4.023000</td>\n      <td>4.023605</td>\n    </tr>\n    <tr>\n      <th>29</th>\n      <td>DoubleExperiment(n=2560).graph</td>\n      <td>0.011343</td>\n      <td>0.079793</td>\n      <td>4.048946</td>\n      <td>4.049678</td>\n    </tr>\n    <tr>\n      <th>30</th>\n      <td>DoubleExperiment(n=2560).graph</td>\n      <td>0.009949</td>\n      <td>0.075232</td>\n      <td>4.028331</td>\n      <td>4.028997</td>\n    </tr>\n    <tr>\n      <th>31</th>\n      <td>DoubleExperiment(n=320).graph</td>\n      <td>0.001403</td>\n      <td>0.002804</td>\n      <td>0.071666</td>\n      <td>0.071899</td>\n    </tr>\n    <tr>\n      <th>32</th>\n      <td>DoubleExperiment(n=320).graph</td>\n      <td>0.001399</td>\n      <td>0.002877</td>\n      <td>0.078171</td>\n      <td>0.078298</td>\n    </tr>\n    <tr>\n      <th>33</th>\n      <td>DoubleExperiment(n=320).graph</td>\n      <td>0.001224</td>\n      <td>0.002536</td>\n      <td>0.072133</td>\n      <td>0.072268</td>\n    </tr>\n    <tr>\n      <th>34</th>\n      <td>DoubleExperiment(n=320).graph</td>\n      <td>0.001905</td>\n      <td>0.003230</td>\n      <td>0.082875</td>\n      <td>0.082993</td>\n    </tr>\n    <tr>\n      <th>35</th>\n      <td>DoubleExperiment(n=320).graph</td>\n      <td>0.001530</td>\n      <td>0.002884</td>\n      <td>0.071329</td>\n      <td>0.071435</td>\n    </tr>\n    <tr>\n      <th>36</th>\n      <td>DoubleExperiment(n=40).graph</td>\n      <td>0.000472</td>\n      <td>0.000720</td>\n      <td>0.002878</td>\n      <td>0.002927</td>\n    </tr>\n    <tr>\n      <th>37</th>\n      <td>DoubleExperiment(n=40).graph</td>\n      <td>0.000417</td>\n      <td>0.000622</td>\n      <td>0.002479</td>\n      <td>0.002493</td>\n    </tr>\n    <tr>\n      <th>38</th>\n      <td>DoubleExperiment(n=40).graph</td>\n      <td>0.000415</td>\n      <td>0.000678</td>\n      <td>0.003248</td>\n      <td>0.003266</td>\n    </tr>\n    <tr>\n      <th>39</th>\n      <td>DoubleExperiment(n=40).graph</td>\n      <td>0.000497</td>\n      <td>0.000751</td>\n      <td>0.003085</td>\n      <td>0.003103</td>\n    </tr>\n    <tr>\n      <th>40</th>\n      <td>DoubleExperiment(n=40).graph</td>\n      <td>0.000400</td>\n      <td>0.000616</td>\n      <td>0.003069</td>\n      <td>0.003088</td>\n    </tr>\n    <tr>\n      <th>41</th>\n      <td>DoubleExperiment(n=5120).graph</td>\n      <td>0.024303</td>\n      <td>0.151524</td>\n      <td>10.938456</td>\n      <td>10.939634</td>\n    </tr>\n    <tr>\n      <th>42</th>\n      <td>DoubleExperiment(n=5120).graph</td>\n      <td>0.022476</td>\n      <td>0.145550</td>\n      <td>10.922810</td>\n      <td>10.924243</td>\n    </tr>\n    <tr>\n      <th>43</th>\n      <td>DoubleExperiment(n=5120).graph</td>\n      <td>0.025717</td>\n      <td>0.123427</td>\n      <td>10.842714</td>\n      <td>10.844353</td>\n    </tr>\n    <tr>\n      <th>44</th>\n      <td>DoubleExperiment(n=5120).graph</td>\n      <td>0.024271</td>\n      <td>0.145488</td>\n      <td>10.745840</td>\n      <td>10.747197</td>\n    </tr>\n    <tr>\n      <th>45</th>\n      <td>DoubleExperiment(n=5120).graph</td>\n      <td>0.022631</td>\n      <td>0.141753</td>\n      <td>10.940596</td>\n      <td>10.942144</td>\n    </tr>\n    <tr>\n      <th>46</th>\n      <td>DoubleExperiment(n=640).graph</td>\n      <td>0.003328</td>\n      <td>0.009312</td>\n      <td>0.323075</td>\n      <td>0.323527</td>\n    </tr>\n    <tr>\n      <th>47</th>\n      <td>DoubleExperiment(n=640).graph</td>\n      <td>0.003526</td>\n      <td>0.008759</td>\n      <td>0.318021</td>\n      <td>0.318253</td>\n    </tr>\n    <tr>\n      <th>48</th>\n      <td>DoubleExperiment(n=640).graph</td>\n      <td>0.003235</td>\n      <td>0.007911</td>\n      <td>0.326096</td>\n      <td>0.326334</td>\n    </tr>\n    <tr>\n      <th>49</th>\n      <td>DoubleExperiment(n=640).graph</td>\n      <td>0.003746</td>\n      <td>0.009070</td>\n      <td>0.328130</td>\n      <td>0.328319</td>\n    </tr>\n    <tr>\n      <th>50</th>\n      <td>DoubleExperiment(n=640).graph</td>\n      <td>0.003630</td>\n      <td>0.008525</td>\n      <td>0.342494</td>\n      <td>0.342685</td>\n    </tr>\n    <tr>\n      <th>51</th>\n      <td>DoubleExperiment(n=80).graph</td>\n      <td>0.000963</td>\n      <td>0.001400</td>\n      <td>0.008677</td>\n      <td>0.008754</td>\n    </tr>\n    <tr>\n      <th>52</th>\n      <td>DoubleExperiment(n=80).graph</td>\n      <td>0.000747</td>\n      <td>0.001112</td>\n      <td>0.007940</td>\n      <td>0.007970</td>\n    </tr>\n    <tr>\n      <th>53</th>\n      <td>DoubleExperiment(n=80).graph</td>\n      <td>0.000735</td>\n      <td>0.001155</td>\n      <td>0.008978</td>\n      <td>0.009010</td>\n    </tr>\n    <tr>\n      <th>54</th>\n      <td>DoubleExperiment(n=80).graph</td>\n      <td>0.000677</td>\n      <td>0.001056</td>\n      <td>0.008868</td>\n      <td>0.008903</td>\n    </tr>\n    <tr>\n      <th>55</th>\n      <td>DoubleExperiment(n=80).graph</td>\n      <td>0.000624</td>\n      <td>0.001063</td>\n      <td>0.008851</td>\n      <td>0.008885</td>\n    </tr>\n  </tbody>\n</table>\n</div>"
     },
     "execution_count": 55,
     "metadata": {},
     "output_type": "execute_result"
    }
   ],
   "source": [
    "all_data = pd.read_csv(\"../results/time.csv\", sep=\";\")\n",
    "all_data = all_data[ all_data[\"Graph\"].str.contains(\"DoubleExperiment\")]\n",
    "all_data"
   ],
   "metadata": {
    "collapsed": false,
    "ExecuteTime": {
     "end_time": "2024-04-15T18:08:31.774038Z",
     "start_time": "2024-04-15T18:08:31.758291Z"
    }
   },
   "id": "e3555612417fa65",
   "execution_count": 55
  },
  {
   "cell_type": "code",
   "outputs": [
    {
     "data": {
      "text/plain": "                                 Community computation  Nodes computation  \\\nGraph                                                                       \nDoubleExperiment(n=10).graph                  0.000637           0.000793   \nDoubleExperiment(n=10240).graph               0.059639           0.801482   \nDoubleExperiment(n=1280).graph                0.007342           0.017594   \nDoubleExperiment(n=160).graph                 0.000929           0.001599   \nDoubleExperiment(n=20).graph                  0.000272           0.000385   \nDoubleExperiment(n=20480).graph               0.097486           6.744038   \nDoubleExperiment(n=2560).graph                0.011500           0.079689   \nDoubleExperiment(n=320).graph                 0.001492           0.002866   \nDoubleExperiment(n=40).graph                  0.000440           0.000677   \nDoubleExperiment(n=5120).graph                0.023880           0.141548   \nDoubleExperiment(n=640).graph                 0.003493           0.008715   \nDoubleExperiment(n=80).graph                  0.000749           0.001157   \n\n                                 GLR computation       Total  \nGraph                                                         \nDoubleExperiment(n=10).graph            0.000995    0.001004  \nDoubleExperiment(n=10240).graph        67.631347   67.634286  \nDoubleExperiment(n=1280).graph          0.886662    0.887272  \nDoubleExperiment(n=160).graph           0.022204    0.022289  \nDoubleExperiment(n=20).graph            0.000845    0.000858  \nDoubleExperiment(n=20480).graph       411.466876  411.471703  \nDoubleExperiment(n=2560).graph          4.063947    4.064856  \nDoubleExperiment(n=320).graph           0.075235    0.075378  \nDoubleExperiment(n=40).graph            0.002952    0.002976  \nDoubleExperiment(n=5120).graph         10.878083   10.879514  \nDoubleExperiment(n=640).graph           0.327563    0.327824  \nDoubleExperiment(n=80).graph            0.008663    0.008704  ",
      "text/html": "<div>\n<style scoped>\n    .dataframe tbody tr th:only-of-type {\n        vertical-align: middle;\n    }\n\n    .dataframe tbody tr th {\n        vertical-align: top;\n    }\n\n    .dataframe thead th {\n        text-align: right;\n    }\n</style>\n<table border=\"1\" class=\"dataframe\">\n  <thead>\n    <tr style=\"text-align: right;\">\n      <th></th>\n      <th>Community computation</th>\n      <th>Nodes computation</th>\n      <th>GLR computation</th>\n      <th>Total</th>\n    </tr>\n    <tr>\n      <th>Graph</th>\n      <th></th>\n      <th></th>\n      <th></th>\n      <th></th>\n    </tr>\n  </thead>\n  <tbody>\n    <tr>\n      <th>DoubleExperiment(n=10).graph</th>\n      <td>0.000637</td>\n      <td>0.000793</td>\n      <td>0.000995</td>\n      <td>0.001004</td>\n    </tr>\n    <tr>\n      <th>DoubleExperiment(n=10240).graph</th>\n      <td>0.059639</td>\n      <td>0.801482</td>\n      <td>67.631347</td>\n      <td>67.634286</td>\n    </tr>\n    <tr>\n      <th>DoubleExperiment(n=1280).graph</th>\n      <td>0.007342</td>\n      <td>0.017594</td>\n      <td>0.886662</td>\n      <td>0.887272</td>\n    </tr>\n    <tr>\n      <th>DoubleExperiment(n=160).graph</th>\n      <td>0.000929</td>\n      <td>0.001599</td>\n      <td>0.022204</td>\n      <td>0.022289</td>\n    </tr>\n    <tr>\n      <th>DoubleExperiment(n=20).graph</th>\n      <td>0.000272</td>\n      <td>0.000385</td>\n      <td>0.000845</td>\n      <td>0.000858</td>\n    </tr>\n    <tr>\n      <th>DoubleExperiment(n=20480).graph</th>\n      <td>0.097486</td>\n      <td>6.744038</td>\n      <td>411.466876</td>\n      <td>411.471703</td>\n    </tr>\n    <tr>\n      <th>DoubleExperiment(n=2560).graph</th>\n      <td>0.011500</td>\n      <td>0.079689</td>\n      <td>4.063947</td>\n      <td>4.064856</td>\n    </tr>\n    <tr>\n      <th>DoubleExperiment(n=320).graph</th>\n      <td>0.001492</td>\n      <td>0.002866</td>\n      <td>0.075235</td>\n      <td>0.075378</td>\n    </tr>\n    <tr>\n      <th>DoubleExperiment(n=40).graph</th>\n      <td>0.000440</td>\n      <td>0.000677</td>\n      <td>0.002952</td>\n      <td>0.002976</td>\n    </tr>\n    <tr>\n      <th>DoubleExperiment(n=5120).graph</th>\n      <td>0.023880</td>\n      <td>0.141548</td>\n      <td>10.878083</td>\n      <td>10.879514</td>\n    </tr>\n    <tr>\n      <th>DoubleExperiment(n=640).graph</th>\n      <td>0.003493</td>\n      <td>0.008715</td>\n      <td>0.327563</td>\n      <td>0.327824</td>\n    </tr>\n    <tr>\n      <th>DoubleExperiment(n=80).graph</th>\n      <td>0.000749</td>\n      <td>0.001157</td>\n      <td>0.008663</td>\n      <td>0.008704</td>\n    </tr>\n  </tbody>\n</table>\n</div>"
     },
     "execution_count": 56,
     "metadata": {},
     "output_type": "execute_result"
    }
   ],
   "source": [
    "grouped = all_data.groupby(\"Graph\")\n",
    "all_mean = grouped.aggregate(\"mean\")\n",
    "all_mean"
   ],
   "metadata": {
    "collapsed": false,
    "ExecuteTime": {
     "end_time": "2024-04-15T18:08:31.786781Z",
     "start_time": "2024-04-15T18:08:31.776654Z"
    }
   },
   "id": "af9e9129b3f91ea8",
   "execution_count": 56
  },
  {
   "cell_type": "code",
   "outputs": [
    {
     "data": {
      "text/plain": "Index(['DoubleExperiment(n=10).graph', 'DoubleExperiment(n=10240).graph',\n       'DoubleExperiment(n=1280).graph', 'DoubleExperiment(n=160).graph',\n       'DoubleExperiment(n=20).graph', 'DoubleExperiment(n=20480).graph',\n       'DoubleExperiment(n=2560).graph', 'DoubleExperiment(n=320).graph',\n       'DoubleExperiment(n=40).graph', 'DoubleExperiment(n=5120).graph',\n       'DoubleExperiment(n=640).graph', 'DoubleExperiment(n=80).graph'],\n      dtype='object', name='Graph')"
     },
     "execution_count": 57,
     "metadata": {},
     "output_type": "execute_result"
    }
   ],
   "source": [
    "import re\n",
    "\n",
    "\n",
    "all_mean.index"
   ],
   "metadata": {
    "collapsed": false,
    "ExecuteTime": {
     "end_time": "2024-04-15T18:08:31.793450Z",
     "start_time": "2024-04-15T18:08:31.787892Z"
    }
   },
   "id": "cafd5d4e962aaacb",
   "execution_count": 57
  }
 ],
 "metadata": {
  "kernelspec": {
   "display_name": "Python 3",
   "language": "python",
   "name": "python3"
  },
  "language_info": {
   "codemirror_mode": {
    "name": "ipython",
    "version": 2
   },
   "file_extension": ".py",
   "mimetype": "text/x-python",
   "name": "python",
   "nbconvert_exporter": "python",
   "pygments_lexer": "ipython2",
   "version": "2.7.6"
  }
 },
 "nbformat": 4,
 "nbformat_minor": 5
}
