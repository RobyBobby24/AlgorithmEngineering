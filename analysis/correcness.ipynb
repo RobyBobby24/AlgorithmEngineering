{
 "cells": [
  {
   "cell_type": "code",
   "execution_count": 71,
   "id": "initial_id",
   "metadata": {
    "collapsed": true,
    "ExecuteTime": {
     "end_time": "2024-08-22T09:20:15.970390Z",
     "start_time": "2024-08-22T09:20:15.965592Z"
    }
   },
   "outputs": [],
   "source": [
    "import networkit as nk\n",
    "import pandas as pd\n",
    "import sys\n",
    "sys.path.append('../python_implementation')\n",
    "from algorithms_implementation import community_centrality_std\n",
    "import os"
   ]
  },
  {
   "cell_type": "code",
   "outputs": [],
   "source": [
    "import matplotlib.colors as mcolors\n",
    "\n",
    "def interpolate_color(colors, value):\n",
    "    rgba = [mcolors.to_rgba(color) for color in colors]\n",
    "    delta = 1/(len(colors)-1)\n",
    "    i_color= int(value/delta)\n",
    "    i_value = (value%delta)/delta\n",
    "    \n",
    "    if i_color+ 1 >= len(colors):\n",
    "        return rgba[-1]\n",
    "    else:\n",
    "        print(i_value)\n",
    "        rgba1 = rgba[i_color]\n",
    "        rgba2 = rgba[i_color+1]\n",
    "        interpolated_rgba = tuple((c1 * (1 - i_value) + c2 * i_value) for c1, c2 in zip(rgba1, rgba2))\n",
    "        return interpolated_rgba"
   ],
   "metadata": {
    "collapsed": false,
    "ExecuteTime": {
     "end_time": "2024-08-22T09:11:06.379111Z",
     "start_time": "2024-08-22T09:11:06.372440Z"
    }
   },
   "id": "36f2238a7db013bd",
   "execution_count": 60
  },
  {
   "cell_type": "code",
   "outputs": [],
   "source": [
    "num_nodes = 9\n",
    "G = nk.graph.Graph(num_nodes)\n",
    "\n",
    "# Aggiunta degli archi per formare un percorso lineare\n",
    "for i in range(num_nodes - 1):\n",
    "    G.addEdge(i, i + 1)"
   ],
   "metadata": {
    "collapsed": false,
    "ExecuteTime": {
     "end_time": "2024-08-22T09:11:06.400396Z",
     "start_time": "2024-08-22T09:11:06.396121Z"
    }
   },
   "id": "71cd43896705fe92",
   "execution_count": 61
  },
  {
   "cell_type": "code",
   "outputs": [
    {
     "name": "stdout",
     "output_type": "stream",
     "text": [
      "<class 'list'>\n"
     ]
    },
    {
     "data": {
      "text/plain": "[(8, 0.08),\n (0, 0.08695652173913043),\n (7, 0.10526315789473684),\n (1, 0.11764705882352941),\n (6, 0.13333333333333333),\n (2, 0.15384615384615385),\n (5, 0.15384615384615385),\n (3, 0.18181818181818182),\n (4, 0.18181818181818182)]"
     },
     "execution_count": 62,
     "metadata": {},
     "output_type": "execute_result"
    }
   ],
   "source": [
    "ranking_nodes = community_centrality_std(G)\n",
    "print(type(ranking_nodes[0]))\n",
    "ranking_nodes[0]"
   ],
   "metadata": {
    "collapsed": false,
    "ExecuteTime": {
     "end_time": "2024-08-22T09:11:06.430365Z",
     "start_time": "2024-08-22T09:11:06.401402Z"
    }
   },
   "id": "e7718cdbcdc0f43f",
   "execution_count": 62
  },
  {
   "cell_type": "code",
   "outputs": [
    {
     "data": {
      "text/plain": "((8, 0.08), (3, 0.18181818181818182))"
     },
     "execution_count": 63,
     "metadata": {},
     "output_type": "execute_result"
    }
   ],
   "source": [
    "min_node = min(ranking_nodes[0], key=lambda x: x[1])\n",
    "max_node = max(ranking_nodes[0], key=lambda x: x[1])\n",
    "min_node, max_node"
   ],
   "metadata": {
    "collapsed": false,
    "ExecuteTime": {
     "end_time": "2024-08-22T09:11:06.437593Z",
     "start_time": "2024-08-22T09:11:06.431373Z"
    }
   },
   "id": "2e2545775da50a44",
   "execution_count": 63
  },
  {
   "cell_type": "code",
   "outputs": [
    {
     "data": {
      "text/plain": "{8: 0.0,\n 0: 0.06832298136645959,\n 7: 0.24812030075187963,\n 1: 0.36974789915966383,\n 6: 0.5238095238095237,\n 2: 0.7252747252747254,\n 5: 0.7252747252747254,\n 3: 1.0,\n 4: 1.0}"
     },
     "execution_count": 64,
     "metadata": {},
     "output_type": "execute_result"
    }
   ],
   "source": [
    "normalized_ranking_nodes = {}\n",
    "for node in ranking_nodes[0]:\n",
    "    normalized_val = (node[1]- min_node[1])/(max_node[1] - min_node[1])\n",
    "    normalized_ranking_nodes[node[0]] = normalized_val\n",
    "normalized_ranking_nodes"
   ],
   "metadata": {
    "collapsed": false,
    "ExecuteTime": {
     "end_time": "2024-08-22T09:11:06.445623Z",
     "start_time": "2024-08-22T09:11:06.439609Z"
    }
   },
   "id": "6c83647c63150302",
   "execution_count": 64
  },
  {
   "cell_type": "code",
   "outputs": [
    {
     "name": "stdout",
     "output_type": "stream",
     "text": [
      "0.06832298136645959\n",
      "0.36974789915966383\n",
      "0.7252747252747254\n",
      "0.7252747252747254\n",
      "0.5238095238095237\n",
      "0.24812030075187963\n",
      "0.0\n"
     ]
    },
    {
     "data": {
      "text/plain": "<Figure size 640x480 with 1 Axes>",
      "image/png": "[encoded data removed]"
     },
     "metadata": {},
     "output_type": "display_data"
    }
   ],
   "source": [
    "colors = ['green', 'red']\n",
    "\n",
    "node_color = [interpolate_color(colors, normalized_ranking_nodes[node]) for node in range(G.numberOfNodes())]\n",
    "nk.viztasks.drawGraph(G, node_color=node_color)"
   ],
   "metadata": {
    "collapsed": false,
    "ExecuteTime": {
     "end_time": "2024-08-22T09:11:06.557460Z",
     "start_time": "2024-08-22T09:11:06.446632Z"
    }
   },
   "id": "36c75c93dcc173e2",
   "execution_count": 65
  },
  {
   "cell_type": "code",
   "outputs": [],
   "source": [
    "num_nodes = 8\n",
    "G = nk.graph.Graph(2*num_nodes)\n",
    "\n",
    "# Aggiunta degli archi per formare un percorso lineare\n",
    "for i in range(num_nodes - 1):\n",
    "    G.addEdge(i, i + 1)\n",
    "G.addEdge(num_nodes - 1, 0)\n",
    "# Aggiunta degli archi per formare un percorso lineare\n",
    "for i in range(num_nodes):\n",
    "    G.addEdge(i, i+ num_nodes)"
   ],
   "metadata": {
    "collapsed": false,
    "ExecuteTime": {
     "end_time": "2024-08-22T09:11:06.563096Z",
     "start_time": "2024-08-22T09:11:06.558466Z"
    }
   },
   "id": "846c30ceacc4f4cd",
   "execution_count": 66
  },
  {
   "cell_type": "code",
   "outputs": [
    {
     "name": "stdout",
     "output_type": "stream",
     "text": [
      "<class 'list'>\n"
     ]
    },
    {
     "data": {
      "text/plain": "[(12, 0.0625),\n (14, 0.0625),\n (9, 0.06666666666666667),\n (11, 0.06666666666666667),\n (13, 0.06666666666666667),\n (15, 0.06666666666666667),\n (8, 0.07142857142857142),\n (10, 0.07142857142857142),\n (4, 0.09090909090909091),\n (6, 0.09090909090909091),\n (1, 0.1),\n (3, 0.1),\n (5, 0.1),\n (7, 0.1),\n (0, 0.1111111111111111),\n (2, 0.1111111111111111)]"
     },
     "execution_count": 67,
     "metadata": {},
     "output_type": "execute_result"
    }
   ],
   "source": [
    "ranking_nodes = community_centrality_std(G)\n",
    "print(type(ranking_nodes[0]))\n",
    "ranking_nodes[0]"
   ],
   "metadata": {
    "collapsed": false,
    "ExecuteTime": {
     "end_time": "2024-08-22T09:11:06.576226Z",
     "start_time": "2024-08-22T09:11:06.565103Z"
    }
   },
   "id": "1dcac3c4f1fed460",
   "execution_count": 67
  },
  {
   "cell_type": "code",
   "outputs": [
    {
     "data": {
      "text/plain": "((12, 0.0625), (0, 0.1111111111111111))"
     },
     "execution_count": 68,
     "metadata": {},
     "output_type": "execute_result"
    }
   ],
   "source": [
    "min_node = min(ranking_nodes[0], key=lambda x: x[1])\n",
    "max_node = max(ranking_nodes[0], key=lambda x: x[1])\n",
    "min_node, max_node"
   ],
   "metadata": {
    "collapsed": false,
    "ExecuteTime": {
     "end_time": "2024-08-22T09:11:06.584689Z",
     "start_time": "2024-08-22T09:11:06.577234Z"
    }
   },
   "id": "9075331bfce934dd",
   "execution_count": 68
  },
  {
   "cell_type": "code",
   "outputs": [
    {
     "data": {
      "text/plain": "{12: 0.0,\n 14: 0.0,\n 9: 0.0857142857142857,\n 11: 0.0857142857142857,\n 13: 0.0857142857142857,\n 15: 0.0857142857142857,\n 8: 0.18367346938775506,\n 10: 0.18367346938775506,\n 4: 0.5844155844155845,\n 6: 0.5844155844155845,\n 1: 0.7714285714285717,\n 3: 0.7714285714285717,\n 5: 0.7714285714285717,\n 7: 0.7714285714285717,\n 0: 1.0,\n 2: 1.0}"
     },
     "execution_count": 69,
     "metadata": {},
     "output_type": "execute_result"
    }
   ],
   "source": [
    "normalized_ranking_nodes = {}\n",
    "for node in ranking_nodes[0]:\n",
    "    normalized_val = (node[1]- min_node[1])/(max_node[1] - min_node[1])\n",
    "    normalized_ranking_nodes[node[0]] = normalized_val\n",
    "normalized_ranking_nodes"
   ],
   "metadata": {
    "collapsed": false,
    "ExecuteTime": {
     "end_time": "2024-08-22T09:11:06.605269Z",
     "start_time": "2024-08-22T09:11:06.585701Z"
    }
   },
   "id": "5b819191b8452416",
   "execution_count": 69
  },
  {
   "cell_type": "code",
   "outputs": [
    {
     "name": "stdout",
     "output_type": "stream",
     "text": [
      "0.7714285714285717\n",
      "0.7714285714285717\n",
      "0.5844155844155845\n",
      "0.7714285714285717\n",
      "0.5844155844155845\n",
      "0.7714285714285717\n",
      "0.18367346938775506\n",
      "0.0857142857142857\n",
      "0.18367346938775506\n",
      "0.0857142857142857\n",
      "0.0\n",
      "0.0857142857142857\n",
      "0.0\n",
      "0.0857142857142857\n"
     ]
    },
    {
     "data": {
      "text/plain": "<Figure size 640x480 with 1 Axes>",
      "image/png": "[encoded data removed]"
     },
     "metadata": {},
     "output_type": "display_data"
    }
   ],
   "source": [
    "colors = ['green', 'red']\n",
    "\n",
    "node_color = [interpolate_color(colors, normalized_ranking_nodes[node]) for node in range(G.numberOfNodes())]\n",
    "nk.viztasks.drawGraph(G, node_color=node_color)"
   ],
   "metadata": {
    "collapsed": false,
    "ExecuteTime": {
     "end_time": "2024-08-22T09:11:06.732393Z",
     "start_time": "2024-08-22T09:11:06.607489Z"
    }
   },
   "id": "5c31a576a5095e1d",
   "execution_count": 70
  },
  {
   "cell_type": "code",
   "outputs": [],
   "source": [
    "def filter_file(keyword, root):\n",
    "    result = []\n",
    "    for i, gp in enumerate(os.listdir(root)):\n",
    "        if keyword in gp or keyword == \"\":\n",
    "            result.append(f\"{root}{gp}\")\n",
    "    return result"
   ],
   "metadata": {
    "collapsed": false,
    "ExecuteTime": {
     "end_time": "2024-08-22T09:20:22.506499Z",
     "start_time": "2024-08-22T09:20:22.501364Z"
    }
   },
   "id": "85f4545c6eff982b",
   "execution_count": 72
  },
  {
   "cell_type": "code",
   "outputs": [
    {
     "data": {
      "text/plain": "(['../results/2expnode(fixnumbercommunity)/C++Std(2expnode(n=10240, m=50000).graph).csv',\n  '../results/2expnode(fixnumbercommunity)/C++Std(2expnode(n=1280, m=50000).graph).csv',\n  '../results/2expnode(fixnumbercommunity)/C++Std(2expnode(n=20480, m=50000).graph).csv',\n  '../results/2expnode(fixnumbercommunity)/C++Std(2expnode(n=2560, m=50000).graph).csv',\n  '../results/2expnode(fixnumbercommunity)/C++Std(2expnode(n=40960, m=50000).graph).csv',\n  '../results/2expnode(fixnumbercommunity)/C++Std(2expnode(n=5120, m=50000).graph).csv',\n  '../results/2expnode(fixnumbercommunity)/C++Std(2expnode(n=640, m=50000).graph).csv'],\n ['../results/2expnode(fixnumbercommunity)/pythonStd(2expnode(n=10240, m=50000).graph).csv',\n  '../results/2expnode(fixnumbercommunity)/pythonStd(2expnode(n=1280, m=50000).graph).csv',\n  '../results/2expnode(fixnumbercommunity)/pythonStd(2expnode(n=20480, m=50000).graph).csv',\n  '../results/2expnode(fixnumbercommunity)/pythonStd(2expnode(n=2560, m=50000).graph).csv',\n  '../results/2expnode(fixnumbercommunity)/pythonStd(2expnode(n=40960, m=50000).graph).csv',\n  '../results/2expnode(fixnumbercommunity)/pythonStd(2expnode(n=5120, m=50000).graph).csv',\n  '../results/2expnode(fixnumbercommunity)/pythonStd(2expnode(n=640, m=50000).graph).csv'],\n ['../results/2expnodeundirected(fixnumbercommunity)/C++Std(2expnode(n=10240, m=50000).graph).csv',\n  '../results/2expnodeundirected(fixnumbercommunity)/C++Std(2expnode(n=1280, m=50000).graph).csv',\n  '../results/2expnodeundirected(fixnumbercommunity)/C++Std(2expnode(n=20480, m=50000).graph).csv',\n  '../results/2expnodeundirected(fixnumbercommunity)/C++Std(2expnode(n=2560, m=50000).graph).csv',\n  '../results/2expnodeundirected(fixnumbercommunity)/C++Std(2expnode(n=40960, m=50000).graph).csv',\n  '../results/2expnodeundirected(fixnumbercommunity)/C++Std(2expnode(n=5120, m=50000).graph).csv',\n  '../results/2expnodeundirected(fixnumbercommunity)/C++Std(2expnode(n=640, m=50000).graph).csv'],\n ['../results/2expnodeundirected(fixnumbercommunity)/pythonStd(2expnode(n=10240, m=50000).graph).csv',\n  '../results/2expnodeundirected(fixnumbercommunity)/pythonStd(2expnode(n=1280, m=50000).graph).csv',\n  '../results/2expnodeundirected(fixnumbercommunity)/pythonStd(2expnode(n=20480, m=50000).graph).csv',\n  '../results/2expnodeundirected(fixnumbercommunity)/pythonStd(2expnode(n=2560, m=50000).graph).csv',\n  '../results/2expnodeundirected(fixnumbercommunity)/pythonStd(2expnode(n=40960, m=50000).graph).csv',\n  '../results/2expnodeundirected(fixnumbercommunity)/pythonStd(2expnode(n=5120, m=50000).graph).csv',\n  '../results/2expnodeundirected(fixnumbercommunity)/pythonStd(2expnode(n=640, m=50000).graph).csv'])"
     },
     "execution_count": 74,
     "metadata": {},
     "output_type": "execute_result"
    }
   ],
   "source": [
    "cpp_results = filter_file(\"C++Std\", \"../results/2expnode(fixnumbercommunity)/\")\n",
    "py_results = filter_file(\"pythonStd\", \"../results/2expnode(fixnumbercommunity)/\")\n",
    "cpp_results_undirected = filter_file(\"C++Std\", \"../results/2expnodeundirected(fixnumbercommunity)/\")\n",
    "py_results_undirected = filter_file(\"pythonStd\", \"../results/2expnodeundirected(fixnumbercommunity)/\")\n",
    "cpp_results, py_results, cpp_results_undirected, py_results_undirected"
   ],
   "metadata": {
    "collapsed": false,
    "ExecuteTime": {
     "end_time": "2024-08-22T09:23:42.296240Z",
     "start_time": "2024-08-22T09:23:42.287925Z"
    }
   },
   "id": "167adb771b7a6695",
   "execution_count": 74
  },
  {
   "cell_type": "code",
   "outputs": [],
   "source": [
    "def find_compare_couples(results1, results2):\n",
    "    compare_couples = []\n",
    "    for result1 in results1:\n",
    "        for result2 in results2:\n",
    "            file_name1 = result1.split(\"/\")[-1]\n",
    "            file_name2 = result2.split(\"/\")[-1]\n",
    "            if file_name1 == file_name2:\n",
    "                compare_couples.append((result1, result2))\n",
    "    return compare_couples"
   ],
   "metadata": {
    "collapsed": false,
    "ExecuteTime": {
     "end_time": "2024-08-22T10:23:55.623029Z",
     "start_time": "2024-08-22T10:23:55.618925Z"
    }
   },
   "id": "2e1138b56cbd8d7e",
   "execution_count": 102
  },
  {
   "cell_type": "code",
   "outputs": [],
   "source": [
    "def create_sets(df):\n",
    "    sets = []\n",
    "    centrality = -1\n",
    "    for _, row in df.iterrows():\n",
    "        if centrality!= row[\"Centrality Degree\"]:\n",
    "            centrality = row[\"Centrality Degree\"]\n",
    "            sets.append({row[\"Node\"]})\n",
    "        else:\n",
    "            sets[-1].add(row[\"Node\"])\n",
    "    return sets"
   ],
   "metadata": {
    "collapsed": false,
    "ExecuteTime": {
     "end_time": "2024-08-22T10:03:26.580248Z",
     "start_time": "2024-08-22T10:03:26.576944Z"
    }
   },
   "id": "3c9ed13a8aa7184b",
   "execution_count": 91
  },
  {
   "cell_type": "code",
   "outputs": [],
   "source": [
    "def check_correctness(df1, df2):\n",
    "    sets1 = create_sets(df1)\n",
    "    sets2 = create_sets(df2)\n",
    "    for set1, set2 in zip(sets1, sets2):\n",
    "        if set1 == set2:\n",
    "            pass\n",
    "        else:\n",
    "            print(set1, set2)\n",
    "            return False\n",
    "    return True\n",
    "    \n",
    "    \n",
    "            "
   ],
   "metadata": {
    "collapsed": false,
    "ExecuteTime": {
     "end_time": "2024-08-22T10:10:39.858876Z",
     "start_time": "2024-08-22T10:10:39.853240Z"
    }
   },
   "id": "efac660589a22173",
   "execution_count": 96
  },
  {
   "cell_type": "code",
   "outputs": [
    {
     "name": "stdout",
     "output_type": "stream",
     "text": [
      "{6858.0, 5914.0, 5941.0, 8366.0} {6858.0, 5806.0, 8366.0, 5941.0, 5016.0, 5914.0, 7677.0}\n",
      "../results/2expnode(fixnumbercommunity)/C++Std(2expnode(n=10240, m=50000).graph).csv\n",
      "{2217.0, 1233.0, 1365.0, 2071.0, 601.0} {2500.0, 2217.0, 1870.0, 1233.0, 2360.0}\n",
      "../results/2expnode(fixnumbercommunity)/C++Std(2expnode(n=2560, m=50000).graph).csv\n",
      "Results not equals\n"
     ]
    }
   ],
   "source": [
    "\n",
    "correct = True\n",
    "for cpp_result in cpp_results:\n",
    "    py_result = cpp_result.replace(\"C++Std\", \"pythonStd\")\n",
    "    \n",
    "    cpp_df = pd.read_csv(cpp_result, sep=\";\")\n",
    "    py_df = pd.read_csv(py_result, sep=\";\")\n",
    "    \n",
    "    if check_correctness(cpp_df, py_df) == False:\n",
    "        print(cpp_result)\n",
    "        correct = False\n",
    "if correct:\n",
    "    print(\"Results equals\")\n",
    "else:\n",
    "    print(\"Results not equals\")"
   ],
   "metadata": {
    "collapsed": false,
    "ExecuteTime": {
     "end_time": "2024-08-22T10:10:43.168381Z",
     "start_time": "2024-08-22T10:10:40.500154Z"
    }
   },
   "id": "c0324ebd4505fb34",
   "execution_count": 97
  },
  {
   "cell_type": "code",
   "outputs": [
    {
     "name": "stdout",
     "output_type": "stream",
     "text": [
      "{6858.0, 5914.0, 5941.0, 8366.0} {6858.0, 5806.0, 8366.0, 5941.0, 5016.0, 5914.0, 7677.0}\n",
      "../results/2expnodeundirected(fixnumbercommunity)/C++Std(2expnode(n=10240, m=50000).graph).csv\n",
      "{2217.0, 1233.0, 1365.0, 2071.0, 601.0} {2500.0, 2217.0, 1870.0, 1233.0, 2360.0}\n",
      "../results/2expnodeundirected(fixnumbercommunity)/C++Std(2expnode(n=2560, m=50000).graph).csv\n",
      "Results not equals\n"
     ]
    }
   ],
   "source": [
    "correct = True\n",
    "for cpp_result in cpp_results_undirected:\n",
    "    py_result = cpp_result.replace(\"C++Std\", \"pythonStd\")\n",
    "    \n",
    "    cpp_df = pd.read_csv(cpp_result, sep=\";\")\n",
    "    py_df = pd.read_csv(py_result, sep=\";\")\n",
    "    \n",
    "    if check_correctness(cpp_df, py_df) == False:\n",
    "        print(cpp_result)\n",
    "        correct = False\n",
    "if correct:\n",
    "    print(\"Results equals\")\n",
    "else:\n",
    "    print(\"Results not equals\")"
   ],
   "metadata": {
    "collapsed": false,
    "ExecuteTime": {
     "end_time": "2024-08-22T10:14:21.995219Z",
     "start_time": "2024-08-22T10:14:19.125463Z"
    }
   },
   "id": "3efc1405c7178da9",
   "execution_count": 98
  },
  {
   "cell_type": "code",
   "outputs": [
    {
     "name": "stdout",
     "output_type": "stream",
     "text": [
      "Results equals\n"
     ]
    }
   ],
   "source": [
    "cpp_couples = find_compare_couples(cpp_results, cpp_results_undirected)\n",
    "correct = True\n",
    "for couple in cpp_couples:\n",
    "    df1 = pd.read_csv(couple[0], sep=\";\")\n",
    "    df2 = pd.read_csv(couple[1], sep=\";\") #undirected\n",
    "    if check_correctness(df1, df2) == False:\n",
    "        print(couple[0])\n",
    "        correct = False\n",
    "if correct:\n",
    "    print(\"Results equals\")\n",
    "else:\n",
    "    print(\"Results not equals\")"
   ],
   "metadata": {
    "collapsed": false,
    "ExecuteTime": {
     "end_time": "2024-08-22T10:27:08.091550Z",
     "start_time": "2024-08-22T10:27:05.491753Z"
    }
   },
   "id": "3081776faf04db45",
   "execution_count": 104
  },
  {
   "cell_type": "code",
   "outputs": [
    {
     "name": "stdout",
     "output_type": "stream",
     "text": [
      "Results equals\n"
     ]
    }
   ],
   "source": [
    "python_couples = find_compare_couples(py_results, py_results_undirected)\n",
    "correct = True\n",
    "for couple in python_couples:\n",
    "    df1 = pd.read_csv(couple[0], sep=\";\")\n",
    "    df2 = pd.read_csv(couple[1], sep=\";\") #undirected\n",
    "    if check_correctness(df1, df2) == False:\n",
    "        print(couple[0])\n",
    "        correct = False\n",
    "if correct:\n",
    "    print(\"Results equals\")\n",
    "else:\n",
    "    print(\"Results not equals\")"
   ],
   "metadata": {
    "collapsed": false,
    "ExecuteTime": {
     "end_time": "2024-08-22T10:28:00.344978Z",
     "start_time": "2024-08-22T10:27:57.730735Z"
    }
   },
   "id": "ac75b0b1bcba10c0",
   "execution_count": 106
  }
 ],
 "metadata": {
  "kernelspec": {
   "display_name": "Python 3",
   "language": "python",
   "name": "python3"
  },
  "language_info": {
   "codemirror_mode": {
    "name": "ipython",
    "version": 2
   },
   "file_extension": ".py",
   "mimetype": "text/x-python",
   "name": "python",
   "nbconvert_exporter": "python",
   "pygments_lexer": "ipython2",
   "version": "2.7.6"
  }
 },
 "nbformat": 4,
 "nbformat_minor": 5
}
